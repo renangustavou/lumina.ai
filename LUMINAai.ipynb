{
  "nbformat": 4,
  "nbformat_minor": 0,
  "metadata": {
    "colab": {
      "provenance": []
    },
    "kernelspec": {
      "name": "python3",
      "display_name": "Python 3"
    },
    "language_info": {
      "name": "python"
    }
  },
  "cells": [
    {
      "cell_type": "markdown",
      "source": [
        "💡 **LUMINA** 💡\n",
        "\n",
        "Sistema inteligente de detecção de golpes, projetado para proteger usuários, especialmente idosos."
      ],
      "metadata": {
        "id": "lT0vDNgtQrkU"
      }
    },
    {
      "cell_type": "markdown",
      "source": [
        "Instala a biblioteca google-genai"
      ],
      "metadata": {
        "id": "MdnjDG37RemZ"
      }
    },
    {
      "cell_type": "code",
      "execution_count": 1,
      "metadata": {
        "id": "gHoIKPnviWLj"
      },
      "outputs": [],
      "source": [
        "%pip -q install google-genai"
      ]
    },
    {
      "cell_type": "markdown",
      "source": [
        "Configura a chave da API do Google Gemini."
      ],
      "metadata": {
        "id": "E5ACDy7ORg_E"
      }
    },
    {
      "cell_type": "code",
      "source": [
        "# Configura a API Key do Google Gemini\n",
        "\n",
        "import os\n",
        "from google.colab import userdata\n",
        "\n",
        "os.environ[\"GOOGLE_API_KEY\"] = userdata.get('GOOGLE_API_KEY')"
      ],
      "metadata": {
        "id": "0VaKrrZniXYe"
      },
      "execution_count": 2,
      "outputs": []
    },
    {
      "cell_type": "markdown",
      "source": [
        "Inicializa o cliente da SDK do Gemini e define o ID do modelo."
      ],
      "metadata": {
        "id": "_1hkqk3qRlD1"
      }
    },
    {
      "cell_type": "code",
      "source": [
        "# Configura o cliente da SDK do Gemini\n",
        "\n",
        "from google import genai\n",
        "\n",
        "client = genai.Client()\n",
        "\n",
        "MODEL_ID = \"gemini-2.0-flash\""
      ],
      "metadata": {
        "id": "qC8gvsQ7iaI7"
      },
      "execution_count": 3,
      "outputs": []
    },
    {
      "cell_type": "markdown",
      "source": [
        "Instala o framework google-adk para agentes."
      ],
      "metadata": {
        "id": "Ftbapsq2RwEc"
      }
    },
    {
      "cell_type": "code",
      "source": [
        "# Instalar Framework de agentes do Google ################################################\n",
        "!pip install -q google-adk"
      ],
      "metadata": {
        "colab": {
          "base_uri": "https://localhost:8080/"
        },
        "id": "486YlzBlj6yZ",
        "outputId": "d61693d9-4b3a-4735-a1c6-476ed47dadb0"
      },
      "execution_count": 4,
      "outputs": [
        {
          "output_type": "stream",
          "name": "stdout",
          "text": [
            "\u001b[?25l   \u001b[90m━━━━━━━━━━━━━━━━━━━━━━━━━━━━━━━━━━━━━━━━\u001b[0m \u001b[32m0.0/1.2 MB\u001b[0m \u001b[31m?\u001b[0m eta \u001b[36m-:--:--\u001b[0m\r\u001b[2K   \u001b[91m━━━━━━━━━━━━━━━━━━━━━━\u001b[0m\u001b[91m╸\u001b[0m\u001b[90m━━━━━━━━━━━━━━━━━\u001b[0m \u001b[32m0.7/1.2 MB\u001b[0m \u001b[31m20.2 MB/s\u001b[0m eta \u001b[36m0:00:01\u001b[0m\r\u001b[2K   \u001b[90m━━━━━━━━━━━━━━━━━━━━━━━━━━━━━━━━━━━━━━━━\u001b[0m \u001b[32m1.2/1.2 MB\u001b[0m \u001b[31m19.1 MB/s\u001b[0m eta \u001b[36m0:00:00\u001b[0m\n",
            "\u001b[2K   \u001b[90m━━━━━━━━━━━━━━━━━━━━━━━━━━━━━━━━━━━━━━━━\u001b[0m \u001b[32m232.1/232.1 kB\u001b[0m \u001b[31m16.2 MB/s\u001b[0m eta \u001b[36m0:00:00\u001b[0m\n",
            "\u001b[2K   \u001b[90m━━━━━━━━━━━━━━━━━━━━━━━━━━━━━━━━━━━━━━━━\u001b[0m \u001b[32m95.2/95.2 kB\u001b[0m \u001b[31m6.3 MB/s\u001b[0m eta \u001b[36m0:00:00\u001b[0m\n",
            "\u001b[2K   \u001b[90m━━━━━━━━━━━━━━━━━━━━━━━━━━━━━━━━━━━━━━━━\u001b[0m \u001b[32m217.1/217.1 kB\u001b[0m \u001b[31m15.3 MB/s\u001b[0m eta \u001b[36m0:00:00\u001b[0m\n",
            "\u001b[2K   \u001b[90m━━━━━━━━━━━━━━━━━━━━━━━━━━━━━━━━━━━━━━━━\u001b[0m \u001b[32m334.1/334.1 kB\u001b[0m \u001b[31m23.2 MB/s\u001b[0m eta \u001b[36m0:00:00\u001b[0m\n",
            "\u001b[2K   \u001b[90m━━━━━━━━━━━━━━━━━━━━━━━━━━━━━━━━━━━━━━━━\u001b[0m \u001b[32m125.1/125.1 kB\u001b[0m \u001b[31m7.7 MB/s\u001b[0m eta \u001b[36m0:00:00\u001b[0m\n",
            "\u001b[2K   \u001b[90m━━━━━━━━━━━━━━━━━━━━━━━━━━━━━━━━━━━━━━━━\u001b[0m \u001b[32m65.8/65.8 kB\u001b[0m \u001b[31m4.5 MB/s\u001b[0m eta \u001b[36m0:00:00\u001b[0m\n",
            "\u001b[2K   \u001b[90m━━━━━━━━━━━━━━━━━━━━━━━━━━━━━━━━━━━━━━━━\u001b[0m \u001b[32m119.0/119.0 kB\u001b[0m \u001b[31m5.7 MB/s\u001b[0m eta \u001b[36m0:00:00\u001b[0m\n",
            "\u001b[2K   \u001b[90m━━━━━━━━━━━━━━━━━━━━━━━━━━━━━━━━━━━━━━━━\u001b[0m \u001b[32m194.9/194.9 kB\u001b[0m \u001b[31m8.6 MB/s\u001b[0m eta \u001b[36m0:00:00\u001b[0m\n",
            "\u001b[2K   \u001b[90m━━━━━━━━━━━━━━━━━━━━━━━━━━━━━━━━━━━━━━━━\u001b[0m \u001b[32m62.5/62.5 kB\u001b[0m \u001b[31m3.9 MB/s\u001b[0m eta \u001b[36m0:00:00\u001b[0m\n",
            "\u001b[2K   \u001b[90m━━━━━━━━━━━━━━━━━━━━━━━━━━━━━━━━━━━━━━━━\u001b[0m \u001b[32m103.3/103.3 kB\u001b[0m \u001b[31m7.0 MB/s\u001b[0m eta \u001b[36m0:00:00\u001b[0m\n",
            "\u001b[2K   \u001b[90m━━━━━━━━━━━━━━━━━━━━━━━━━━━━━━━━━━━━━━━━\u001b[0m \u001b[32m44.4/44.4 kB\u001b[0m \u001b[31m2.3 MB/s\u001b[0m eta \u001b[36m0:00:00\u001b[0m\n",
            "\u001b[2K   \u001b[90m━━━━━━━━━━━━━━━━━━━━━━━━━━━━━━━━━━━━━━━━\u001b[0m \u001b[32m72.0/72.0 kB\u001b[0m \u001b[31m4.7 MB/s\u001b[0m eta \u001b[36m0:00:00\u001b[0m\n",
            "\u001b[?25h"
          ]
        }
      ]
    },
    {
      "cell_type": "markdown",
      "source": [
        "Importa as bibliotecas necessárias para criar e executar os agentes, manipular dados, formatar texto e exibir resultados."
      ],
      "metadata": {
        "id": "aNmnyPt0R1SU"
      }
    },
    {
      "cell_type": "code",
      "source": [
        "from google.adk.agents import Agent\n",
        "from google.adk.runners import Runner\n",
        "from google.adk.sessions import InMemorySessionService\n",
        "from google.adk.tools import google_search\n",
        "from google.genai import types  # Para criar conteúdos (Content e Part)\n",
        "from datetime import date\n",
        "import textwrap # Para formatar melhor a saída de texto\n",
        "from IPython.display import display, Markdown # Para exibir texto formatado no Colab\n",
        "import requests # Para fazer requisições HTTP\n",
        "import warnings\n",
        "\n",
        "warnings.filterwarnings(\"ignore\")"
      ],
      "metadata": {
        "id": "Sp4Kzz2Sj_CS"
      },
      "execution_count": 13,
      "outputs": []
    },
    {
      "cell_type": "markdown",
      "source": [
        "Define a função call_agent para interagir com os agentes, enviando mensagens e obtendo respostas. A lógica está funcional para comunicação com os agentes."
      ],
      "metadata": {
        "id": "W9B_Z33_RyIu"
      }
    },
    {
      "cell_type": "code",
      "source": [
        "# Função auxiliar que envia uma mensagem para um agente via Runner e retorna a resposta final\n",
        "def call_agent(agent: Agent, message_text: str) -> str:\n",
        "    # Cria um serviço de sessão em memória\n",
        "    session_service = InMemorySessionService()\n",
        "    # Cria uma nova sessão (você pode personalizar os IDs conforme necessário)\n",
        "    session = session_service.create_session(app_name=agent.name, user_id=\"user1\", session_id=\"session1\")\n",
        "    # Cria um Runner para o agente\n",
        "    runner = Runner(agent=agent, app_name=agent.name, session_service=session_service)\n",
        "    # Cria o conteúdo da mensagem de entrada\n",
        "    content = types.Content(role=\"user\", parts=[types.Part(text=message_text)])\n",
        "\n",
        "    final_response = \"\"\n",
        "    # Itera assincronamente pelos eventos retornados durante a execução do agente\n",
        "    for event in runner.run(user_id=\"user1\", session_id=\"session1\", new_message=content):\n",
        "        if event.is_final_response():\n",
        "          for part in event.content.parts:\n",
        "            if part.text is not None:\n",
        "              final_response += part.text\n",
        "              final_response += \"\\n\"\n",
        "    return final_response"
      ],
      "metadata": {
        "id": "ClheGDowkDlq"
      },
      "execution_count": 65,
      "outputs": []
    },
    {
      "cell_type": "markdown",
      "source": [
        "Define a função to_markdown para formatar o texto para exibição no Colab usando Markdown."
      ],
      "metadata": {
        "id": "U2yEmOviR-H2"
      }
    },
    {
      "cell_type": "code",
      "source": [
        "# Função auxiliar para exibir texto formatado em Markdown no Colab\n",
        "def to_markdown(text):\n",
        "  text = text.replace('•', '  *')\n",
        "  return Markdown(textwrap.indent(text, '> ', predicate=lambda _: True))"
      ],
      "metadata": {
        "id": "ZLMPxGYWkI0D"
      },
      "execution_count": 66,
      "outputs": []
    },
    {
      "cell_type": "markdown",
      "source": [
        "Testa a chamada ao modelo Gemini com a ferramenta de busca e exibe a resposta. A chamada está funcionando corretamente."
      ],
      "metadata": {
        "id": "RXC3gmc3SHs0"
      }
    },
    {
      "cell_type": "code",
      "source": [
        "response = client.models.generate_content(\n",
        "    model=MODEL_ID,\n",
        "    contents='',\n",
        "    config={\"tools\": [{\"google_search\": {}}]}\n",
        ")\n",
        "\n",
        "# Exibe a resposta na tela\n",
        "display(Markdown(f\"Resposta:\\n {response.text}\"))"
      ],
      "metadata": {
        "colab": {
          "base_uri": "https://localhost:8080/",
          "height": 46
        },
        "id": "CYCyiscypAEW",
        "outputId": "9b688826-1343-45a7-fb0f-ebb2b724c173"
      },
      "execution_count": 16,
      "outputs": [
        {
          "output_type": "display_data",
          "data": {
            "text/plain": [
              "<IPython.core.display.Markdown object>"
            ],
            "text/markdown": "Resposta:\n Okay, I'm ready. What is your question?\n"
          },
          "metadata": {}
        }
      ]
    },
    {
      "cell_type": "markdown",
      "source": [
        "Define o agente_triagem para coletar e processar a mensagem do usuário, buscando informações sobre golpes."
      ],
      "metadata": {
        "id": "MCXO1R2hSJxa"
      }
    },
    {
      "cell_type": "code",
      "source": [
        "# 👮 Agente de Triagem\n",
        "\n",
        "def agente_triagem(mensagem_usuario, hoje):\n",
        "      triagem = Agent(\n",
        "          name=\"agente_triagem\",\n",
        "          model=\"gemini-2.0-flash\",\n",
        "          instruction=\"\"\"\n",
        "          Você é um agente de triagem de segurança digital. Sua função é apenas coletar e processar a mensagem recebida de forma estratégica.\n",
        "\n",
        "          Instruções:\n",
        "\n",
        "              Não escreva uma resposta direta para o usuário final.\n",
        "\n",
        "              Faça uma pesquisa com a ferramenta (google_search) sobre os principais tipos de golpes aplicados nos últimos 5 anos contra a\n",
        "              população brasileira (e principalmente com idosos).\n",
        "\n",
        "              A partir da mensagem recebida, compare com os sinais de golpe encontrados e colete apenas ações emergenciais que a pessoa deveria tomar\n",
        "              (ex: bloquear, não clicar, não responder, confirmar com familiar).\n",
        "\n",
        "              Seja objetivo. Sua resposta servirá como insumo para outro agente analista.\n",
        "\n",
        "          \"\"\",\n",
        "          tools=[google_search],\n",
        "          description=\"Agente de triagem\"\n",
        "      )\n",
        "\n",
        "      resultados_triagem = f\"Mensagem: {mensagem_usuario}\\nData de hoje: {hoje}\"\n",
        "      lancamentos = call_agent(triagem, resultados_triagem)\n",
        "      return lancamentos\n"
      ],
      "metadata": {
        "id": "ALwPIhDVplCZ"
      },
      "execution_count": 92,
      "outputs": []
    },
    {
      "cell_type": "markdown",
      "source": [
        "Define o agente_financeiro para analisar a mensagem e o resultado da triagem, verificando a autenticidade da mensagem."
      ],
      "metadata": {
        "id": "I2d3d01dSQtc"
      }
    },
    {
      "cell_type": "code",
      "source": [
        "# 👮 Agente Analista Financeiro\n",
        "\n",
        "def agente_financeiro(mensagem_usuario, resultado_triagem):\n",
        "      financeiro = Agent(\n",
        "          name=\"agente_financeiro\",\n",
        "          model=\"gemini-2.0-flash\",\n",
        "          instruction=\"\"\"\n",
        "\n",
        "          Você é um analista de segurança financeira digital. Receberá duas informações:\n",
        "\n",
        "            Uma síntese das ações emergenciais sugeridas pela triagem.\n",
        "\n",
        "            A mensagem suspeita recebida pelo usuário.\n",
        "\n",
        "          Instruções:\n",
        "\n",
        "              Verifique se o conteúdo da mensagem está alinhado com o comportamento e práticas de órgãos oficiais, bancos, institutos de previdência, seguradoras ou instituições governamentais.\n",
        "\n",
        "              Investigue usando (google_search), se necessário.\n",
        "\n",
        "              Se identificar incompatibilidades, aponte-as claramente. Se for legítimo, justifique também.\n",
        "\n",
        "              Escreva de forma clara, confiável e sem jargões. Lembre-se: sua análise será lida por um agente posterior e pode impactar uma decisão de risco.\n",
        "\n",
        "          \"\"\",\n",
        "          tools=[google_search],\n",
        "          description=\"Agente analista financeiro.\"\n",
        "      )\n",
        "\n",
        "      resultados_financeiro = f\"Mensagem: {mensagem_usuario}\\nResultado da triagem: {resultado_triagem}\"\n",
        "      return resultados_financeiro\n",
        ""
      ],
      "metadata": {
        "id": "qyATJvOWrSYP"
      },
      "execution_count": 101,
      "outputs": []
    },
    {
      "cell_type": "markdown",
      "source": [
        "Define o agente_risco para avaliar o risco da situação e fornecer um nível de risco, motivo e ação recomendada."
      ],
      "metadata": {
        "id": "ZoIhylDkSVBH"
      }
    },
    {
      "cell_type": "code",
      "source": [
        "# 👮 Agente de Avaliação de Risco\n",
        "\n",
        "def agente_risco(analise_financeira):\n",
        "    risco = Agent(\n",
        "        name=\"agente_risco\",\n",
        "        model=\"gemini-2.0-flash\",\n",
        "        instruction=\"\"\"\n",
        "        Sua tarefa:\n",
        "        Com base na análise financeira, forneça apenas três informações separadas por linhas:\n",
        "\n",
        "          1. Nível de risco (número inteiro entre 1 e 4)\n",
        "          2. Motivo do risco em até 2 frases\n",
        "          3. Ação recomendada para o usuário (clara e direta)\n",
        "\n",
        "        Não use emojis. Não escreva introdução nem conclusão. Apenas as três respostas, cada uma em uma linha.\n",
        "\n",
        "        \"\"\",\n",
        "        description=\"Agente analista de riscos\"\n",
        "    )\n",
        "\n",
        "    resultado_risco = call_agent(risco, analise_financeira)\n",
        "    return resultado_risco"
      ],
      "metadata": {
        "id": "iVhv668kwCMt"
      },
      "execution_count": 98,
      "outputs": []
    },
    {
      "cell_type": "markdown",
      "source": [
        "Executa o sistema principal, coletando a mensagem do usuário, chamando os agentes em sequência e exibindo o resultado final. O fluxo principal do sistema está implementado e funcional."
      ],
      "metadata": {
        "id": "fk63MFnBSdyG"
      }
    },
    {
      "cell_type": "code",
      "source": [
        "# 🧠 Execução do Sistema\n",
        "\n",
        "hoje = date.today().strftime(\"%d/%m/%Y\")\n",
        "print(\"🔐 Bem-vindo ao LUMINA 💡\\nUm sistema de detecção de golpes sofisticado que poderá te ajudar em poucos minutos!\")\n",
        "mensagem_usuario = input(\"📨 Cole, digite a mensagem (SMS, e-mail, etc.) ou nos conte a história de que você esteja suspeitando ser um golpe:\\n\").strip()\n",
        "\n",
        "if not mensagem_usuario:\n",
        "    print(\"⚠️ Você esqueceu de digitar a mensagem.\")\n",
        "else:\n",
        "    print(\"\\n✅ Recebemos sua mensagem. Aguarde um minutinho enquanto verificamos...\\n\")\n",
        "\n",
        "    print(\"🔎 Etapa 1: Analisando caso...\\n\")\n",
        "    coleta_triagem = agente_triagem(mensagem_usuario, hoje)\n",
        "    display(to_markdown(\"### 🔍 Ações Emergenciais Coletadas pela Triagem:\\n\" + coleta_triagem))\n",
        "\n",
        "    print(\"\\n💸 Etapa 2: Verificação de comportamento de instituições oficiais...\\n\")\n",
        "    analise_financeira = agente_financeiro(mensagem_usuario, coleta_triagem)\n",
        "    display(to_markdown(\"### 🧾 Análise Institucional Financeira:\\n\" + analise_financeira))\n",
        "\n",
        "    print(\"\\n📊 Etapa 3: Avaliação de Risco Final...\\n\")\n",
        "    resultado_bruto = agente_risco(analise_financeira)\n",
        "\n",
        "    # Divide a resposta em partes\n",
        "    linhas = resultado_bruto.split(\"\\n\")\n",
        "    try:\n",
        "        nivel = int(linhas[0].strip())\n",
        "        motivo = linhas[1].strip() if len(linhas) > 1 else \"Motivo não informado.\"\n",
        "        acao = linhas[2].strip() if len(linhas) > 2 else \"Ação não informada.\"\n",
        "    except (ValueError, IndexError):\n",
        "        nivel = -1\n",
        "        motivo = \"Não foi possível interpretar o nível de risco.\"\n",
        "        acao = \"Revise a análise.\"\n",
        "\n",
        "    # Mapeamento de emojis\n",
        "    emojis = {\n",
        "        1: \"🟢\",\n",
        "        2: \"🟡🟡\",\n",
        "        3: \"🔴🔴🔴\",\n",
        "        4: \"🔴🔴🔴🔴\"\n",
        "    }\n",
        "    emoji_nivel = emojis.get(nivel, \"❓\")\n",
        "\n",
        "    # Exibir resultado\n",
        "    resultado_formatado = f\"\"\"\n",
        "    ### 🔐 Classificação de Risco\n",
        "    Nível de Risco: {nivel} {emoji_nivel}\n",
        "\n",
        "    🧭 Motivo:\n",
        "    {motivo}\n",
        "\n",
        "    🛡️ Ação Recomendada:\n",
        "    {acao}\n",
        "    \"\"\"\n",
        "\n",
        "    display(to_markdown(resultado_formatado))"
      ],
      "metadata": {
        "colab": {
          "base_uri": "https://localhost:8080/",
          "height": 948
        },
        "id": "HdWipR6AwDce",
        "outputId": "55c3ab92-00b2-41d7-ca8a-1a0baf001c29"
      },
      "execution_count": 103,
      "outputs": [
        {
          "output_type": "stream",
          "name": "stdout",
          "text": [
            "🔐 Bem-vindo ao LUMINA 💡\n",
            "Um sistema de detecção de golpes sofisticado que poderá te ajudar em poucos minutos!\n",
            "📨 Cole, digite a mensagem (SMS, e-mail, etc.) ou nos conte a história de que você esteja suspeitando ser um golpe:\n",
            "oi aqui eh o itau\n",
            "\n",
            "✅ Recebemos sua mensagem. Aguarde um minutinho enquanto verificamos...\n",
            "\n",
            "🔎 Etapa 1: Analisando caso...\n",
            "\n"
          ]
        },
        {
          "output_type": "display_data",
          "data": {
            "text/plain": [
              "<IPython.core.display.Markdown object>"
            ],
            "text/markdown": "> ### 🔍 Ações Emergenciais Coletadas pela Triagem:\n> Com base na mensagem recebida (\"oi aqui eh o itau\") e nos golpes mais comuns no Brasil, especialmente aqueles que visam idosos, as seguintes ações emergenciais devem ser consideradas:\n> \n> *   **Desconfie da mensagem:** Bancos geralmente não iniciam contato dessa forma informal.\n> \n> *   **Não responda à mensagem:** Evite qualquer interação adicional.\n> \n> *   **Não clique em links:** Se houver links na mensagem, não clique neles.\n> \n> *   **Entre em contato com o Itaú por canais oficiais:** Ignore a mensagem e entre em contato diretamente com o banco através dos canais de atendimento conhecidos (telefone, aplicativo oficial, agência).\n> \n> *   **Confirme com um familiar ou pessoa de confiança:** Consulte alguém próximo antes de tomar qualquer atitude.\n> \n> *   **Considere bloquear o número:** Bloquear o número remetente pode evitar novas tentativas de contato.\n> \n"
          },
          "metadata": {}
        },
        {
          "output_type": "stream",
          "name": "stdout",
          "text": [
            "\n",
            "💸 Etapa 2: Verificação de comportamento de instituições oficiais...\n",
            "\n"
          ]
        },
        {
          "output_type": "display_data",
          "data": {
            "text/plain": [
              "<IPython.core.display.Markdown object>"
            ],
            "text/markdown": "> ### 🧾 Análise Institucional Financeira:\n> Mensagem: oi aqui eh o itau\n> Resultado da triagem: Com base na mensagem recebida (\"oi aqui eh o itau\") e nos golpes mais comuns no Brasil, especialmente aqueles que visam idosos, as seguintes ações emergenciais devem ser consideradas:\n> \n> *   **Desconfie da mensagem:** Bancos geralmente não iniciam contato dessa forma informal.\n> \n> *   **Não responda à mensagem:** Evite qualquer interação adicional.\n> \n> *   **Não clique em links:** Se houver links na mensagem, não clique neles.\n> \n> *   **Entre em contato com o Itaú por canais oficiais:** Ignore a mensagem e entre em contato diretamente com o banco através dos canais de atendimento conhecidos (telefone, aplicativo oficial, agência).\n> \n> *   **Confirme com um familiar ou pessoa de confiança:** Consulte alguém próximo antes de tomar qualquer atitude.\n> \n> *   **Considere bloquear o número:** Bloquear o número remetente pode evitar novas tentativas de contato.\n> \n"
          },
          "metadata": {}
        },
        {
          "output_type": "stream",
          "name": "stdout",
          "text": [
            "\n",
            "📊 Etapa 3: Avaliação de Risco Final...\n",
            "\n"
          ]
        },
        {
          "output_type": "display_data",
          "data": {
            "text/plain": [
              "<IPython.core.display.Markdown object>"
            ],
            "text/markdown": "> \n>     ### 🔐 Classificação de Risco\n>     Nível de Risco: 4 🔴🔴🔴🔴\n> \n>     🧭 Motivo:\n>     A mensagem não é formal e solicita informações pessoais, o que pode indicar uma tentativa de golpe.\n> \n>     🛡️ Ação Recomendada:\n>     Entre em contato com o Itaú por canais oficiais para verificar a autenticidade da mensagem.\n>     "
          },
          "metadata": {}
        }
      ]
    }
  ]
}